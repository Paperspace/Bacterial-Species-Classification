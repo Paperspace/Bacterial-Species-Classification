{
 "cells": [
  {
   "cell_type": "code",
   "execution_count": 3,
   "metadata": {},
   "outputs": [],
   "source": [
    "import requests\n",
    "import urllib.request\n",
    "import time\n",
    "from bs4 import BeautifulSoup\n",
    "import os"
   ]
  },
  {
   "cell_type": "code",
   "execution_count": 5,
   "metadata": {},
   "outputs": [],
   "source": [
    "url = 'http://misztal.edu.pl/software/databases/dibas/'\n",
    "response = requests.get(url)"
   ]
  },
  {
   "cell_type": "code",
   "execution_count": 7,
   "metadata": {},
   "outputs": [
    {
     "data": {
      "text/plain": [
       "<Response [200]>"
      ]
     },
     "execution_count": 7,
     "metadata": {},
     "output_type": "execute_result"
    }
   ],
   "source": [
    "response"
   ]
  },
  {
   "cell_type": "code",
   "execution_count": 9,
   "metadata": {},
   "outputs": [],
   "source": [
    "soup = BeautifulSoup(response.text, \"html.parser\")"
   ]
  },
  {
   "cell_type": "code",
   "execution_count": 10,
   "metadata": {},
   "outputs": [
    {
     "data": {
      "text/plain": [
       "<!DOCTYPE doctype html>\n",
       "\n",
       "<html lang=\"en\">\n",
       "<head>\n",
       "<meta content=\"text/html; charset=utf-8\" http-equiv=\"Content-type\"/>\n",
       "<meta content=\"width=device-width, initial-scale=1.0\" name=\"viewport\"/>\n",
       "<meta content=\"\" name=\"keywords\"/>\n",
       "<meta content=\"DIBaS dataset (Digital Image of Bacterial Species) contains 660 images with 33 different genera and species of bacteria.\" name=\"description\"/>\n",
       "<title>\n",
       "        DIBaS DB | Krzysztof Paweł Misztal</title>\n",
       "<link href=\"/static/img/favicon.ico\" rel=\"shortcut icon\"/>\n",
       "<link href=\"/logs/feeds/rss/\" rel=\"alternate\" title=\"RSS\" type=\"application/rss+xml\"/>\n",
       "<link href=\"/logs/feeds/atom/\" rel=\"alternate\" title=\"Atom\" type=\"application/atom+xml\"/>\n",
       "<link href=\"/static/css/bootstrap.min.css\" rel=\"stylesheet\"/>\n",
       "<link href=\"/static/css/fancybox/jquery.fancybox.css\" rel=\"stylesheet\"/>\n",
       "<link href=\"/static/css/flexslider.css\" rel=\"stylesheet\"/>\n",
       "<link href=\"/static/css/mezzanine.css\" rel=\"stylesheet\"/>\n",
       "<link href=\"/static/css/style.css\" rel=\"stylesheet\"/>\n",
       "<link href=\"/static/skins/default.css\" rel=\"stylesheet\"/>\n",
       "<link href=\"/static/css/highlight/atom-one-light.css\" rel=\"stylesheet\"/>\n",
       "<link href=\"/static/css/katex/katex.min.css\" rel=\"stylesheet\"/>\n",
       "<script src=\"/static/mezzanine/js/jquery-1.8.3.min.js\"></script>\n",
       "<script src=\"/static/js/bootstrap.js\"></script>\n",
       "<script src=\"/static/js/bootstrap-extras.js\"></script>\n",
       "<script src=\"/static/js/katex/katex.min.js\"></script>\n",
       "<script src=\"/static/js/katex/katex-run.js\"></script>\n",
       "<script>\n",
       "(function(i,s,o,g,r,a,m){i['GoogleAnalyticsObject']=r;i[r]=i[r]||function(){\n",
       "(i[r].q=i[r].q||[]).push(arguments)},i[r].l=1*new Date();a=s.createElement(o),\n",
       "m=s.getElementsByTagName(o)[0];a.async=1;a.src=g;m.parentNode.insertBefore(a,m)\n",
       "})(window,document,'script','//www.google-analytics.com/analytics.js','ga');\n",
       "\n",
       "ga('create', 'UA-49113506-1', 'auto');\n",
       "ga('send', 'pageview');\n",
       "</script>\n",
       "<!--[if lt IE 9]>\n",
       "    <script src=\"/static/js/html5shiv.js\"></script>\n",
       "    <script src=\"/static/js/respond.min.js\"></script>\n",
       "    <![endif]-->\n",
       "</head>\n",
       "<body id=\"body\">\n",
       "<div id=\"wrapper\">\n",
       "<header>\n",
       "<div class=\"navbar navbar-default navbar-static-top\" role=\"navigation\">\n",
       "<div class=\"container\">\n",
       "<div class=\"navbar-header\">\n",
       "<button class=\"navbar-toggle\" data-target=\".navbar-collapse\" data-toggle=\"collapse\" type=\"button\">\n",
       "<span class=\"icon-bar\"></span>\n",
       "<span class=\"icon-bar\"></span>\n",
       "<span class=\"icon-bar\"></span>\n",
       "</button>\n",
       "<a class=\"navbar-brand page-title\" href=\"/\">Krzysztof Paweł Misztal</a>\n",
       "</div>\n",
       "<div class=\"navbar-collapse collapse\">\n",
       "<ul class=\"nav navbar-nav\"><li id=\"dropdown-menu-home\"><a href=\"/\">Home</a></li><li class=\" \" id=\"for-students\"><a href=\"/for-students/\">\n",
       "            For students\n",
       "            \n",
       "        </a></li><li class=\" \" id=\"-publications-\"><a href=\"/publications/\">\n",
       "            Publications\n",
       "            \n",
       "        </a></li><li class=\" \" id=\"cv\"><a href=\"/cv/\">\n",
       "            CV light &amp; Research\n",
       "            \n",
       "        </a></li><li class=\"dropdown active\" id=\"software\"><a class=\"dropdown-toggle disabled\" data-toggle=\"dropdown\" href=\"/software/\">\n",
       "            Software\n",
       "            <b class=\"caret\"></b></a><ul class=\"dropdown-menu\"><li class=\" active\" id=\"software-databases-dibas\"><a href=\"/software/databases/dibas/\">DIBaS DB</a></li></ul></li><li class=\" \" id=\"-logs-\"><a href=\"/logs/\">\n",
       "            Logs\n",
       "            \n",
       "        </a></li></ul>\n",
       "</div>\n",
       "</div>\n",
       "</div>\n",
       "</header>\n",
       "<div class=\"container\">\n",
       "</div>\n",
       "<section id=\"inner-headline\">\n",
       "<div class=\"container\">\n",
       "<div class=\"row small-margin-bottom\">\n",
       "<div class=\"col-lg-12\">\n",
       "<ul class=\"breadcrumb\">\n",
       "<li id=\"breadcrumb-menu-home\"><a href=\"/\">Home</a></li><li id=\"breadcrumb-menu-software\"><a href=\"/software/\">Software</a></li><li class=\"active\" id=\"breadcrumb-menu-software-databases-dibas\">DIBaS DB</li>\n",
       "</ul>\n",
       "</div>\n",
       "</div>\n",
       "</div>\n",
       "</section>\n",
       "<section class=\"callaction\">\n",
       "<div class=\"container\">\n",
       "<div class=\"row\">\n",
       "<div class=\"col-lg-12\">\n",
       "<div class=\"big-cta\">\n",
       "<div class=\"cta-text\">\n",
       "<h2>\n",
       "DIBaS DB\n",
       "</h2>\n",
       "</div>\n",
       "</div>\n",
       "</div>\n",
       "</div>\n",
       "</div>\n",
       "</section>\n",
       "<section id=\"content\">\n",
       "<div class=\"container\">\n",
       "<div class=\"row\">\n",
       "<div class=\"col-md-2 left\">\n",
       "<div class=\"panel panel-default tree\">\n",
       "<ul class=\"nav nav-list navlist-menu-level-0\"><li id=\"tree-menu-home\"><a href=\"/\">Home</a></li><li class=\" \" id=\"tree-menu-for-students\"><a href=\"/for-students/\">For students</a><ul class=\"nav nav-list navlist-menu-level-1\"><li class=\" \" id=\"tree-menu-for-students-dissertations\"><a href=\"/for-students/dissertations/\">Dissertations</a></li></ul></li><li class=\" \" id=\"tree-menu--publications-\"><a href=\"/publications/\">Publications</a></li><li class=\" \" id=\"tree-menu-cv\"><a href=\"/cv/\">CV light &amp; Research</a></li><li class=\" active-branch \" id=\"tree-menu-software\"><a href=\"/software/\">Software</a><ul class=\"nav nav-list navlist-menu-level-1\"><li class=\" active active-branch \" id=\"tree-menu-software-databases-dibas\"><a href=\"/software/databases/dibas/\">DIBaS DB</a></li></ul></li><li class=\" \" id=\"tree-menu--logs-\"><a href=\"/logs/\">Logs</a></li></ul>\n",
       "</div>\n",
       "</div>\n",
       "<div class=\"col-md-10 col-xs-12 middle\">\n",
       "<p><strong>DIBaS dataset</strong> (Digital Image of Bacterial Species) contains 660 images with 33 different genera and species of bacteria.</p>\n",
       "<h4></h4>\n",
       "<p><img alt=\"\" src=\"http://misztal.edu.pl/static/media/uploads/databases/dibas/preview.png\" width=\"800\"/></p>\n",
       "<h4>License and Citations</h4>\n",
       "<p><span>If you are using the <strong>DIBaS dataset</strong> please do not forget to refer in your publications to</span></p>\n",
       "<blockquote>\n",
       "<p>B. Zieliński<span>,<span> </span></span>A. Plichta<span>,<span> </span></span>K. Misztal<span>,<span> </span></span>P. Spurek<span>,<span> </span></span>M. Brzychczy-Włoch<span>, and<span> </span></span>D. Ochońska<span><span> </span></span><br/><b><a class=\"title\" href=\"http://misztal.edu.pl/publications/22/\">Deep learning approach to bacterial colony classification</a></b><br/><i>PLOS ONE,<span> </span><b>12</b>(9), 1-14, 2017<span> </span></i></p>\n",
       "</blockquote>\n",
       "<h4>Download list</h4>\n",
       "<ul>\n",
       "<li>1.1 <em><a href=\"https://doctoral.matinf.uj.edu.pl/database/dibas/Acinetobacter.baumanii.zip\">Acinetobacter baumanii</a></em></li>\n",
       "<li>2.1 <a href=\"https://doctoral.matinf.uj.edu.pl/database/dibas/Actinomyces.israeli.zip\">Actinomyces israelii</a></li>\n",
       "<li>3.1 <em><a href=\"https://doctoral.matinf.uj.edu.pl/database/dibas/Bacteroides.fragilis.zip\">Bacteroides fragilis</a> </em></li>\n",
       "<li>4.0 <a href=\"https://doctoral.matinf.uj.edu.pl/database/dibas/Bifidobacterium.spp.zip\"><em>Bifidobacterium</em> spp.</a></li>\n",
       "<li>5.1 <em><a href=\"https://doctoral.matinf.uj.edu.pl/database/dibas/Candida.albicans.zip\">Candida albicans</a></em></li>\n",
       "<li>6.1 <a href=\"https://doctoral.matinf.uj.edu.pl/database/dibas/Clostridium.perfringens.zip\">C<em>lostridium perfringens</em></a></li>\n",
       "<li>7.1 <em><a href=\"https://doctoral.matinf.uj.edu.pl/database/dibas/Enterococcus.faecium.zip\">Enterococcus faecium</a></em></li>\n",
       "<li>7.2 <em><a href=\"https://doctoral.matinf.uj.edu.pl/database/dibas/Enterococcus.faecalis.zip\">Enterococcus faecalis</a></em></li>\n",
       "<li>8.1 <em><a href=\"https://doctoral.matinf.uj.edu.pl/database/dibas/Escherichia.coli.zip\">Escherichia coli</a></em></li>\n",
       "<li>9.0 <a href=\"https://doctoral.matinf.uj.edu.pl/database/dibas/Fusobacterium.zip\"><em>Fusobacterium</em> spp.</a></li>\n",
       "<li>10.1 <em><a href=\"https://doctoral.matinf.uj.edu.pl/database/dibas/Lactobacillus.casei.zip\">Lactobacillus casei</a></em></li>\n",
       "<li>10.2 <em><a href=\"https://doctoral.matinf.uj.edu.pl/database/dibas/Lactobacillus.crispatus.zip\">Lactobacillus crispatus</a></em></li>\n",
       "<li>10.3 <em><a href=\"https://doctoral.matinf.uj.edu.pl/database/dibas/Lactobacillus.delbrueckii.zip\">Lactobacillus delbrueckii</a></em></li>\n",
       "<li>10.4 <em><a href=\"https://doctoral.matinf.uj.edu.pl/database/dibas/Lactobacillus.gasseri.zip\">Lactobacillus gasseri</a></em></li>\n",
       "<li>10.5 <em><a href=\"https://doctoral.matinf.uj.edu.pl/database/dibas/Lactobacillus.jehnsenii.zip\">Lactobacillus jehnsenii</a></em></li>\n",
       "<li>10.6 <em><a href=\"https://doctoral.matinf.uj.edu.pl/database/dibas/Lactobacillus.johnsonii.zip\">Lactobacillus johnsonii</a></em></li>\n",
       "<li>10.7 <em><a href=\"https://doctoral.matinf.uj.edu.pl/database/dibas/Lactobacillus.paracasei.zip\">Lactobacillus paracasei</a></em></li>\n",
       "<li>10.8 <em><a href=\"https://doctoral.matinf.uj.edu.pl/database/dibas/Lactobacillus.plantarum.zip\">Lactobacillus plantaru</a></em></li>\n",
       "<li>10.9 <em><a href=\"https://doctoral.matinf.uj.edu.pl/database/dibas/Lactobacillus.reuteri.zip\">Lactobacillus reuteri</a></em></li>\n",
       "<li>10.10 <em><a href=\"https://doctoral.matinf.uj.edu.pl/database/dibas/Lactobacillus.rhamnosus.zip\">Lactobacillus rhamnosus</a></em></li>\n",
       "<li>10.11 <em><a href=\"https://doctoral.matinf.uj.edu.pl/database/dibas/Lactobacillus.salivarius.zip\">Lactobacillus salivarius</a></em></li>\n",
       "<li>11.1 <em><a href=\"https://doctoral.matinf.uj.edu.pl/database/dibas/Listeria.monocytogenes.zip\">Listeria monocytogenes</a></em></li>\n",
       "<li>12.0 <a href=\"https://doctoral.matinf.uj.edu.pl/database/dibas/Micrococcus.spp.zip\"><em>Micrococcus</em> spp.</a></li>\n",
       "<li>13.1 <em><a href=\"https://doctoral.matinf.uj.edu.pl/database/dibas/Neisseria.gonorrhoeae.zip\">Neisseria gonorrhoeae</a></em></li>\n",
       "<li>14.1 <em><a href=\"https://doctoral.matinf.uj.edu.pl/database/dibas/Porfyromonas.gingivalis.zip\">Porphyromonas gingivalis</a></em></li>\n",
       "<li>15.1 <a href=\"https://doctoral.matinf.uj.edu.pl/database/dibas/Propionibacterium.acnes.zip\"><em>Propionibacterium acnes</em> </a></li>\n",
       "<li>16.0 <a href=\"https://doctoral.matinf.uj.edu.pl/database/dibas/Proteus.zip\"><em>Proteus</em> spp.</a></li>\n",
       "<li>17.1 <em><a href=\"https://doctoral.matinf.uj.edu.pl/database/dibas/Pseudomonas.aeruginosa.zip\">Pseudomonas aeruginosa</a></em></li>\n",
       "<li>18.1 <em><a href=\"https://doctoral.matinf.uj.edu.pl/database/dibas/Staphylococcus.aureus.zip\">Staphylococcus aureus</a></em></li>\n",
       "<li>18.2 <em><a href=\"https://doctoral.matinf.uj.edu.pl/database/dibas/Staphylococcus.epidermidis.zip\">Staphylococcus epidermidis</a></em></li>\n",
       "<li>18.3 <em><a href=\"https://doctoral.matinf.uj.edu.pl/database/dibas/Staphylococcus.saprophiticus.zip\">Staphylococcus saprophiticus</a></em></li>\n",
       "<li>19.1 <em><a href=\"https://doctoral.matinf.uj.edu.pl/database/dibas/Streptococcus.agalactiae.zip\">Streptococcus agalactiae</a></em></li>\n",
       "<li>20.0 <a href=\"https://doctoral.matinf.uj.edu.pl/database/dibas/Veionella.zip\"><em>Veionella</em> spp.</a></li>\n",
       "</ul>\n",
       "</div>\n",
       "</div>\n",
       "</div>\n",
       "</section>\n",
       "<footer>\n",
       "<div class=\"container\">\n",
       "<div class=\"nav-footer\"><ul class=\"list-unstyled\"><li id=\"footer-menu-for-students\"><a href=\"/for-students/\">For students</a></li></ul><ul class=\"list-unstyled\"><li id=\"footer-menu--publications-\"><a href=\"/publications/\">Publications</a></li></ul><ul class=\"list-unstyled\"><li id=\"footer-menu-cv\"><a href=\"/cv/\">CV light &amp; Research</a></li></ul><ul class=\"list-unstyled\"><li class=\"active\" id=\"footer-menu-software\"><a href=\"/software/\">Software</a></li><li class=\"active\" id=\"footer-menu-software-databases-dibas\"><a href=\"/software/databases/dibas/\">DIBaS DB</a></li></ul><ul class=\"list-unstyled\"><li id=\"footer-menu--logs-\"><a href=\"/logs/\">Logs</a></li></ul></div>\n",
       "<div id=\"sub-footer\">\n",
       "<div class=\"row\">\n",
       "<div class=\"col-lg-6\">\n",
       "<div class=\"copyright\">\n",
       "<p>\n",
       "<span>Template by </span><a href=\"http://bootstraptaste.com\" target=\"_blank\">Bootstraptaste</a>.\n",
       "                                Mezzanine theme by <a href=\"http://thecodinghouse.in\" target=\"_blank\">CodingHouse</a>\n",
       "</p>\n",
       "</div>\n",
       "</div>\n",
       "<div class=\"col-lg-6\">\n",
       "<ul class=\"social-network\">\n",
       "<li><a data-original-title=\"Facebook\" data-placement=\"top\" href=\"#\" title=\"\"><i class=\"fa fa-facebook\"></i></a></li>\n",
       "<li><a data-original-title=\"Twitter\" data-placement=\"top\" href=\"#\" title=\"\"><i class=\"fa fa-twitter\"></i></a></li>\n",
       "<li><a data-original-title=\"Linkedin\" data-placement=\"top\" href=\"#\" title=\"\"><i class=\"fa fa-linkedin\"></i></a></li>\n",
       "<li><a data-original-title=\"Pinterest\" data-placement=\"top\" href=\"#\" title=\"\"><i class=\"fa fa-pinterest\"></i></a></li>\n",
       "<li><a data-original-title=\"Google plus\" data-placement=\"top\" href=\"#\" title=\"\"><i class=\"fa fa-google-plus\"></i></a></li>\n",
       "</ul>\n",
       "</div>\n",
       "</div>\n",
       "</div>\n",
       "</div>\n",
       "</footer>\n",
       "</div>\n",
       "<script src=\"/static/js/jquery.easing.1.3.js\"></script>\n",
       "<script src=\"/static/js/jquery.fancybox.pack.js\"></script>\n",
       "<script src=\"/static/js/jquery.fancybox-media.js\"></script>\n",
       "<script src=\"/static/js/google-code-prettify/prettify.js\"></script>\n",
       "<script src=\"/static/js/portfolio/jquery.quicksand.js\"></script>\n",
       "<script src=\"/static/js/portfolio/setting.js\"></script>\n",
       "<script src=\"/static/js/jquery.flexslider.js\"></script>\n",
       "<script src=\"/static/js/highlight.pack.js\"></script>\n",
       "<script>hljs.initHighlightingOnLoad();</script>\n",
       "</body>\n",
       "</html>"
      ]
     },
     "execution_count": 10,
     "metadata": {},
     "output_type": "execute_result"
    }
   ],
   "source": [
    "soup"
   ]
  },
  {
   "cell_type": "code",
   "execution_count": 11,
   "metadata": {},
   "outputs": [
    {
     "data": {
      "text/plain": [
       "[<a class=\"navbar-brand page-title\" href=\"/\">Krzysztof Paweł Misztal</a>,\n",
       " <a href=\"/\">Home</a>,\n",
       " <a href=\"/for-students/\">\n",
       "             For students\n",
       "             \n",
       "         </a>,\n",
       " <a href=\"/publications/\">\n",
       "             Publications\n",
       "             \n",
       "         </a>,\n",
       " <a href=\"/cv/\">\n",
       "             CV light &amp; Research\n",
       "             \n",
       "         </a>,\n",
       " <a class=\"dropdown-toggle disabled\" data-toggle=\"dropdown\" href=\"/software/\">\n",
       "             Software\n",
       "             <b class=\"caret\"></b></a>,\n",
       " <a href=\"/software/databases/dibas/\">DIBaS DB</a>,\n",
       " <a href=\"/logs/\">\n",
       "             Logs\n",
       "             \n",
       "         </a>,\n",
       " <a href=\"/\">Home</a>,\n",
       " <a href=\"/software/\">Software</a>,\n",
       " <a href=\"/\">Home</a>,\n",
       " <a href=\"/for-students/\">For students</a>,\n",
       " <a href=\"/for-students/dissertations/\">Dissertations</a>,\n",
       " <a href=\"/publications/\">Publications</a>,\n",
       " <a href=\"/cv/\">CV light &amp; Research</a>,\n",
       " <a href=\"/software/\">Software</a>,\n",
       " <a href=\"/software/databases/dibas/\">DIBaS DB</a>,\n",
       " <a href=\"/logs/\">Logs</a>,\n",
       " <a class=\"title\" href=\"http://misztal.edu.pl/publications/22/\">Deep learning approach to bacterial colony classification</a>,\n",
       " <a href=\"https://doctoral.matinf.uj.edu.pl/database/dibas/Acinetobacter.baumanii.zip\">Acinetobacter baumanii</a>,\n",
       " <a href=\"https://doctoral.matinf.uj.edu.pl/database/dibas/Actinomyces.israeli.zip\">Actinomyces israelii</a>,\n",
       " <a href=\"https://doctoral.matinf.uj.edu.pl/database/dibas/Bacteroides.fragilis.zip\">Bacteroides fragilis</a>,\n",
       " <a href=\"https://doctoral.matinf.uj.edu.pl/database/dibas/Bifidobacterium.spp.zip\"><em>Bifidobacterium</em> spp.</a>,\n",
       " <a href=\"https://doctoral.matinf.uj.edu.pl/database/dibas/Candida.albicans.zip\">Candida albicans</a>,\n",
       " <a href=\"https://doctoral.matinf.uj.edu.pl/database/dibas/Clostridium.perfringens.zip\">C<em>lostridium perfringens</em></a>,\n",
       " <a href=\"https://doctoral.matinf.uj.edu.pl/database/dibas/Enterococcus.faecium.zip\">Enterococcus faecium</a>,\n",
       " <a href=\"https://doctoral.matinf.uj.edu.pl/database/dibas/Enterococcus.faecalis.zip\">Enterococcus faecalis</a>,\n",
       " <a href=\"https://doctoral.matinf.uj.edu.pl/database/dibas/Escherichia.coli.zip\">Escherichia coli</a>,\n",
       " <a href=\"https://doctoral.matinf.uj.edu.pl/database/dibas/Fusobacterium.zip\"><em>Fusobacterium</em> spp.</a>,\n",
       " <a href=\"https://doctoral.matinf.uj.edu.pl/database/dibas/Lactobacillus.casei.zip\">Lactobacillus casei</a>,\n",
       " <a href=\"https://doctoral.matinf.uj.edu.pl/database/dibas/Lactobacillus.crispatus.zip\">Lactobacillus crispatus</a>,\n",
       " <a href=\"https://doctoral.matinf.uj.edu.pl/database/dibas/Lactobacillus.delbrueckii.zip\">Lactobacillus delbrueckii</a>,\n",
       " <a href=\"https://doctoral.matinf.uj.edu.pl/database/dibas/Lactobacillus.gasseri.zip\">Lactobacillus gasseri</a>,\n",
       " <a href=\"https://doctoral.matinf.uj.edu.pl/database/dibas/Lactobacillus.jehnsenii.zip\">Lactobacillus jehnsenii</a>,\n",
       " <a href=\"https://doctoral.matinf.uj.edu.pl/database/dibas/Lactobacillus.johnsonii.zip\">Lactobacillus johnsonii</a>,\n",
       " <a href=\"https://doctoral.matinf.uj.edu.pl/database/dibas/Lactobacillus.paracasei.zip\">Lactobacillus paracasei</a>,\n",
       " <a href=\"https://doctoral.matinf.uj.edu.pl/database/dibas/Lactobacillus.plantarum.zip\">Lactobacillus plantaru</a>,\n",
       " <a href=\"https://doctoral.matinf.uj.edu.pl/database/dibas/Lactobacillus.reuteri.zip\">Lactobacillus reuteri</a>,\n",
       " <a href=\"https://doctoral.matinf.uj.edu.pl/database/dibas/Lactobacillus.rhamnosus.zip\">Lactobacillus rhamnosus</a>,\n",
       " <a href=\"https://doctoral.matinf.uj.edu.pl/database/dibas/Lactobacillus.salivarius.zip\">Lactobacillus salivarius</a>,\n",
       " <a href=\"https://doctoral.matinf.uj.edu.pl/database/dibas/Listeria.monocytogenes.zip\">Listeria monocytogenes</a>,\n",
       " <a href=\"https://doctoral.matinf.uj.edu.pl/database/dibas/Micrococcus.spp.zip\"><em>Micrococcus</em> spp.</a>,\n",
       " <a href=\"https://doctoral.matinf.uj.edu.pl/database/dibas/Neisseria.gonorrhoeae.zip\">Neisseria gonorrhoeae</a>,\n",
       " <a href=\"https://doctoral.matinf.uj.edu.pl/database/dibas/Porfyromonas.gingivalis.zip\">Porphyromonas gingivalis</a>,\n",
       " <a href=\"https://doctoral.matinf.uj.edu.pl/database/dibas/Propionibacterium.acnes.zip\"><em>Propionibacterium acnes</em> </a>,\n",
       " <a href=\"https://doctoral.matinf.uj.edu.pl/database/dibas/Proteus.zip\"><em>Proteus</em> spp.</a>,\n",
       " <a href=\"https://doctoral.matinf.uj.edu.pl/database/dibas/Pseudomonas.aeruginosa.zip\">Pseudomonas aeruginosa</a>,\n",
       " <a href=\"https://doctoral.matinf.uj.edu.pl/database/dibas/Staphylococcus.aureus.zip\">Staphylococcus aureus</a>,\n",
       " <a href=\"https://doctoral.matinf.uj.edu.pl/database/dibas/Staphylococcus.epidermidis.zip\">Staphylococcus epidermidis</a>,\n",
       " <a href=\"https://doctoral.matinf.uj.edu.pl/database/dibas/Staphylococcus.saprophiticus.zip\">Staphylococcus saprophiticus</a>,\n",
       " <a href=\"https://doctoral.matinf.uj.edu.pl/database/dibas/Streptococcus.agalactiae.zip\">Streptococcus agalactiae</a>,\n",
       " <a href=\"https://doctoral.matinf.uj.edu.pl/database/dibas/Veionella.zip\"><em>Veionella</em> spp.</a>,\n",
       " <a href=\"/for-students/\">For students</a>,\n",
       " <a href=\"/publications/\">Publications</a>,\n",
       " <a href=\"/cv/\">CV light &amp; Research</a>,\n",
       " <a href=\"/software/\">Software</a>,\n",
       " <a href=\"/software/databases/dibas/\">DIBaS DB</a>,\n",
       " <a href=\"/logs/\">Logs</a>,\n",
       " <a href=\"http://bootstraptaste.com\" target=\"_blank\">Bootstraptaste</a>,\n",
       " <a href=\"http://thecodinghouse.in\" target=\"_blank\">CodingHouse</a>,\n",
       " <a data-original-title=\"Facebook\" data-placement=\"top\" href=\"#\" title=\"\"><i class=\"fa fa-facebook\"></i></a>,\n",
       " <a data-original-title=\"Twitter\" data-placement=\"top\" href=\"#\" title=\"\"><i class=\"fa fa-twitter\"></i></a>,\n",
       " <a data-original-title=\"Linkedin\" data-placement=\"top\" href=\"#\" title=\"\"><i class=\"fa fa-linkedin\"></i></a>,\n",
       " <a data-original-title=\"Pinterest\" data-placement=\"top\" href=\"#\" title=\"\"><i class=\"fa fa-pinterest\"></i></a>,\n",
       " <a data-original-title=\"Google plus\" data-placement=\"top\" href=\"#\" title=\"\"><i class=\"fa fa-google-plus\"></i></a>]"
      ]
     },
     "execution_count": 11,
     "metadata": {},
     "output_type": "execute_result"
    }
   ],
   "source": [
    "soup.findAll('a')"
   ]
  },
  {
   "cell_type": "code",
   "execution_count": 14,
   "metadata": {},
   "outputs": [
    {
     "data": {
      "text/plain": [
       "<a href=\"https://doctoral.matinf.uj.edu.pl/database/dibas/Acinetobacter.baumanii.zip\">Acinetobacter baumanii</a>"
      ]
     },
     "execution_count": 14,
     "metadata": {},
     "output_type": "execute_result"
    }
   ],
   "source": [
    "soup.findAll('a')[19]"
   ]
  },
  {
   "cell_type": "code",
   "execution_count": 17,
   "metadata": {},
   "outputs": [
    {
     "data": {
      "text/plain": [
       "<a href=\"https://doctoral.matinf.uj.edu.pl/database/dibas/Veionella.zip\"><em>Veionella</em> spp.</a>"
      ]
     },
     "execution_count": 17,
     "metadata": {},
     "output_type": "execute_result"
    }
   ],
   "source": [
    "soup.findAll('a')[51]"
   ]
  },
  {
   "cell_type": "code",
   "execution_count": 30,
   "metadata": {},
   "outputs": [
    {
     "name": "stdout",
     "output_type": "stream",
     "text": [
      "Lactobacillus.plantarum.zip\n"
     ]
    }
   ],
   "source": [
    "one_a_tag = soup.findAll('a')[36]\n",
    "link = one_a_tag['href']\n",
    "link\n",
    "print(link[49:len(link)])"
   ]
  },
  {
   "cell_type": "code",
   "execution_count": null,
   "metadata": {},
   "outputs": [],
   "source": [
    "urllib.request.urlretrieve(download_url,'./'+link]) "
   ]
  },
  {
   "cell_type": "code",
   "execution_count": 35,
   "metadata": {},
   "outputs": [],
   "source": [
    "for i in range(19,52): #'a' tags are for links\n",
    "    one_a_tag = soup.findAll('a')[i]\n",
    "    link = one_a_tag['href']\n",
    "    urllib.request.urlretrieve(link,'./bacteria-dataset/zip_files/'+link[49:len(link)]) \n",
    "    time.sleep(1)"
   ]
  },
  {
   "cell_type": "code",
   "execution_count": 43,
   "metadata": {},
   "outputs": [
    {
     "data": {
      "text/plain": [
       "'Lactobacillus.crispatus'"
      ]
     },
     "execution_count": 43,
     "metadata": {},
     "output_type": "execute_result"
    }
   ],
   "source": [
    "import os\n",
    "link[49:-4]"
   ]
  },
  {
   "cell_type": "code",
   "execution_count": 45,
   "metadata": {},
   "outputs": [],
   "source": [
    "import zipfile\n",
    "for i in range(19,52):\n",
    "    one_a_tag = soup.findAll('a')[i]\n",
    "    link = one_a_tag['href']\n",
    "    zip_ref = zipfile.ZipFile('./bacteria-dataset/zip_files/'+link[49:len(link)], 'r')\n",
    "    os.mkdir('./bacteria-dataset/full_images/' + link[49:-4])\n",
    "    zip_ref.extractall('./bacteria-dataset/full_images/'+ link[49:-4])\n",
    "    zip_ref.close()"
   ]
  },
  {
   "cell_type": "code",
   "execution_count": null,
   "metadata": {},
   "outputs": [],
   "source": []
  }
 ],
 "metadata": {
  "kernelspec": {
   "display_name": "Python 3",
   "language": "python",
   "name": "python3"
  },
  "language_info": {
   "codemirror_mode": {
    "name": "ipython",
    "version": 3
   },
   "file_extension": ".py",
   "mimetype": "text/x-python",
   "name": "python",
   "nbconvert_exporter": "python",
   "pygments_lexer": "ipython3",
   "version": "3.6.5"
  }
 },
 "nbformat": 4,
 "nbformat_minor": 2
}
